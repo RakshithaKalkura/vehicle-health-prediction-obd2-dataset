{
 "cells": [
  {
   "cell_type": "markdown",
   "metadata": {},
   "source": [
    "# Convolution Neural Network "
   ]
  },
  {
   "cell_type": "code",
   "execution_count": 15,
   "metadata": {},
   "outputs": [],
   "source": [
    "\n",
    "# import the necessary packages\n",
    "import pandas as pd\n",
    "import numpy as np\n",
    "import matplotlib.pyplot as plt\n",
    "from sklearn.model_selection import train_test_split\n",
    "from sklearn.preprocessing import StandardScaler, OneHotEncoder\n",
    "from sklearn.impute import SimpleImputer\n",
    "from sklearn.compose import ColumnTransformer\n",
    "from sklearn.pipeline import Pipeline\n",
    "from sklearn.metrics import (accuracy_score, precision_score, recall_score, f1_score, \n",
    "                             roc_auc_score, log_loss, matthews_corrcoef, balanced_accuracy_score, \n",
    "                             cohen_kappa_score, confusion_matrix)\n",
    "import tensorflow as tf\n",
    "from tensorflow.keras.models import Sequential\n",
    "from tensorflow.keras.layers import Conv1D, MaxPooling1D, Flatten, Dense, Dropout, Reshape\n",
    "from tensorflow.keras.callbacks import EarlyStopping\n"
   ]
  },
  {
   "cell_type": "code",
   "execution_count": 16,
   "metadata": {},
   "outputs": [
    {
     "name": "stderr",
     "output_type": "stream",
     "text": [
      "C:\\Users\\raksh\\AppData\\Local\\Temp\\ipykernel_15812\\112859877.py:1: DtypeWarning: Columns (22,25) have mixed types. Specify dtype option on import or set low_memory=False.\n",
      "  df = pd.read_csv('dataset.csv')\n"
     ]
    }
   ],
   "source": [
    "df = pd.read_csv('dataset.csv')"
   ]
  },
  {
   "cell_type": "code",
   "execution_count": 17,
   "metadata": {},
   "outputs": [
    {
     "name": "stdout",
     "output_type": "stream",
     "text": [
      "Created 'EngineHealth' column based on DTC_NUMBER.\n"
     ]
    }
   ],
   "source": [
    "if 'DTC_NUMBER' in df.columns:\n",
    "    df['DTC_NUMBER'] = df['DTC_NUMBER'].fillna('MIL is OFF0 codes')\n",
    "    df['EngineHealth'] = df['DTC_NUMBER'].apply(lambda x: 0 if x.strip() == 'MIL is OFF0 codes' else 1)\n",
    "    print(\"Created 'EngineHealth' column based on DTC_NUMBER.\")\n",
    "else:\n",
    "    raise ValueError(\"DTC_NUMBER column not found in the dataset. Cannot create EngineHealth target.\")"
   ]
  },
  {
   "cell_type": "code",
   "execution_count": 18,
   "metadata": {},
   "outputs": [],
   "source": [
    "cols_to_drop = [\n",
    "    'AUTOMATIC', 'BAROMETRIC_PRESSURE(KPA)', 'FUEL_LEVEL', 'AMBIENT_AIR_TEMP', \n",
    "    'INTAKE_MANIFOLD_PRESSURE', 'MAF', 'LONG TERM FUEL TRIM BANK 2', 'FUEL_TYPE', \n",
    "    'FUEL_PRESSURE', 'SHORT TERM FUEL TRIM BANK 2', 'ENGINE_RUNTIME', 'TROUBLE_CODES', \n",
    "    'EQUIV_RATIO', 'TIMESTAMP', 'VEHICLE_ID', 'DTC_NUMBER'\n",
    "]\n",
    "df.drop(columns=cols_to_drop, errors='ignore', inplace=True)"
   ]
  },
  {
   "cell_type": "code",
   "execution_count": 21,
   "metadata": {},
   "outputs": [],
   "source": [
    "feature_cols = [\n",
    "    'MARK', 'MODEL', 'CAR_YEAR', 'ENGINE_POWER', 'ENGINE_COOLANT_TEMP', \n",
    "    'ENGINE_LOAD', 'ENGINE_RPM', 'AIR_INTAKE_TEMP', 'SPEED', \n",
    "    'SHORT TERM FUEL TRIM BANK 1', 'THROTTLE_POS', \n",
    "    'TIMING_ADVANCE', 'MIN', 'HOURS', 'DAYS_OF_WEEK', 'MONTHS', 'YEAR'\n",
    "]"
   ]
  },
  {
   "cell_type": "code",
   "execution_count": 22,
   "metadata": {},
   "outputs": [],
   "source": [
    "df_model = df[feature_cols + ['EngineHealth']].copy()\n",
    "df_model.dropna(subset=['EngineHealth'], inplace=True)  # Drop rows with missing target"
   ]
  },
  {
   "cell_type": "code",
   "execution_count": 23,
   "metadata": {},
   "outputs": [],
   "source": [
    "X = df_model[feature_cols]\n",
    "y = df_model['EngineHealth']"
   ]
  },
  {
   "cell_type": "code",
   "execution_count": 24,
   "metadata": {},
   "outputs": [],
   "source": [
    "# Preprocessing Pipeline\n",
    "categorical_features = ['MARK', 'MODEL']\n",
    "numeric_features = [col for col in feature_cols if col not in categorical_features]\n",
    "numeric_transformer = Pipeline(steps=[\n",
    "    ('imputer', SimpleImputer(strategy='median')),\n",
    "    ('scaler', StandardScaler())\n",
    "])\n",
    "categorical_transformer = Pipeline(steps=[\n",
    "    ('imputer', SimpleImputer(strategy='most_frequent')),\n",
    "    ('onehot', OneHotEncoder(handle_unknown='ignore'))\n",
    "])\n",
    "preprocessor = ColumnTransformer(\n",
    "    transformers=[\n",
    "        ('num', numeric_transformer, numeric_features),\n",
    "        ('cat', categorical_transformer, categorical_features)\n",
    "    ]\n",
    ")"
   ]
  },
  {
   "cell_type": "code",
   "execution_count": 25,
   "metadata": {},
   "outputs": [
    {
     "name": "stdout",
     "output_type": "stream",
     "text": [
      "X_train_cnn shape: (38011, 38, 1)\n",
      "X_test_cnn shape: (9503, 38, 1)\n"
     ]
    }
   ],
   "source": [
    "#  Split into Training and Test Sets\n",
    "X_train, X_test, y_train, y_test = train_test_split(\n",
    "    X, y, test_size=0.2, random_state=42\n",
    ")\n",
    "X_train_processed = preprocessor.fit_transform(X_train)\n",
    "X_test_processed = preprocessor.transform(X_test)\n",
    "\n",
    "# For CNNs, reshape data to add a channel dimension: (samples, timesteps, channels).\n",
    "input_dim = X_train_processed.shape[1]\n",
    "X_train_cnn = np.expand_dims(X_train_processed, axis=-1)  # shape: (n_samples, input_dim, 1)\n",
    "X_test_cnn = np.expand_dims(X_test_processed, axis=-1)\n",
    "print(f\"X_train_cnn shape: {X_train_cnn.shape}\")\n",
    "print(f\"X_test_cnn shape: {X_test_cnn.shape}\")"
   ]
  },
  {
   "cell_type": "markdown",
   "metadata": {},
   "source": [
    "### Building the CNN model"
   ]
  },
  {
   "cell_type": "code",
   "execution_count": 27,
   "metadata": {},
   "outputs": [],
   "source": [
    "\n",
    "model_cnn = Sequential([\n",
    "    Conv1D(filters=32, kernel_size=3, activation='relu', input_shape=(input_dim, 1)),\n",
    "    MaxPooling1D(pool_size=2),\n",
    "    Dropout(0.2),\n",
    "    Conv1D(filters=64, kernel_size=3, activation='relu'),\n",
    "    MaxPooling1D(pool_size=2),\n",
    "    Flatten(),\n",
    "    Dense(32, activation='relu'),\n",
    "    Dense(1, activation='sigmoid')  # Sigmoid activation for binary classification\n",
    "])\n",
    "\n",
    "model_cnn.compile(optimizer='adam', loss='binary_crossentropy', metrics=['accuracy'])\n"
   ]
  },
  {
   "cell_type": "markdown",
   "metadata": {},
   "source": [
    "#### Train the Model"
   ]
  },
  {
   "cell_type": "code",
   "execution_count": 28,
   "metadata": {},
   "outputs": [
    {
     "name": "stdout",
     "output_type": "stream",
     "text": [
      "Epoch 1/10\n",
      "\u001b[1m951/951\u001b[0m \u001b[32m━━━━━━━━━━━━━━━━━━━━\u001b[0m\u001b[37m\u001b[0m \u001b[1m4s\u001b[0m 3ms/step - accuracy: 0.9718 - loss: 0.0823 - val_accuracy: 0.9996 - val_loss: 0.0035\n",
      "Epoch 2/10\n",
      "\u001b[1m951/951\u001b[0m \u001b[32m━━━━━━━━━━━━━━━━━━━━\u001b[0m\u001b[37m\u001b[0m \u001b[1m3s\u001b[0m 3ms/step - accuracy: 0.9997 - loss: 0.0033 - val_accuracy: 0.9997 - val_loss: 0.0016\n",
      "Epoch 3/10\n",
      "\u001b[1m951/951\u001b[0m \u001b[32m━━━━━━━━━━━━━━━━━━━━\u001b[0m\u001b[37m\u001b[0m \u001b[1m3s\u001b[0m 3ms/step - accuracy: 0.9995 - loss: 0.0027 - val_accuracy: 0.9995 - val_loss: 0.0018\n",
      "Epoch 4/10\n",
      "\u001b[1m951/951\u001b[0m \u001b[32m━━━━━━━━━━━━━━━━━━━━\u001b[0m\u001b[37m\u001b[0m \u001b[1m3s\u001b[0m 3ms/step - accuracy: 0.9999 - loss: 7.9188e-04 - val_accuracy: 0.9996 - val_loss: 0.0015\n",
      "Epoch 5/10\n",
      "\u001b[1m951/951\u001b[0m \u001b[32m━━━━━━━━━━━━━━━━━━━━\u001b[0m\u001b[37m\u001b[0m \u001b[1m3s\u001b[0m 3ms/step - accuracy: 0.9996 - loss: 0.0022 - val_accuracy: 0.9995 - val_loss: 0.0032\n",
      "Epoch 6/10\n",
      "\u001b[1m951/951\u001b[0m \u001b[32m━━━━━━━━━━━━━━━━━━━━\u001b[0m\u001b[37m\u001b[0m \u001b[1m3s\u001b[0m 3ms/step - accuracy: 0.9997 - loss: 0.0012 - val_accuracy: 0.9995 - val_loss: 0.0019\n",
      "Epoch 7/10\n",
      "\u001b[1m951/951\u001b[0m \u001b[32m━━━━━━━━━━━━━━━━━━━━\u001b[0m\u001b[37m\u001b[0m \u001b[1m3s\u001b[0m 3ms/step - accuracy: 0.9999 - loss: 7.6297e-04 - val_accuracy: 0.9996 - val_loss: 0.0016\n",
      "Epoch 8/10\n",
      "\u001b[1m951/951\u001b[0m \u001b[32m━━━━━━━━━━━━━━━━━━━━\u001b[0m\u001b[37m\u001b[0m \u001b[1m3s\u001b[0m 4ms/step - accuracy: 0.9994 - loss: 0.0015 - val_accuracy: 0.9995 - val_loss: 0.0015\n",
      "Epoch 9/10\n",
      "\u001b[1m951/951\u001b[0m \u001b[32m━━━━━━━━━━━━━━━━━━━━\u001b[0m\u001b[37m\u001b[0m \u001b[1m3s\u001b[0m 3ms/step - accuracy: 0.9999 - loss: 7.4584e-04 - val_accuracy: 0.9991 - val_loss: 0.0020\n",
      "Epoch 10/10\n",
      "\u001b[1m951/951\u001b[0m \u001b[32m━━━━━━━━━━━━━━━━━━━━\u001b[0m\u001b[37m\u001b[0m \u001b[1m3s\u001b[0m 3ms/step - accuracy: 0.9994 - loss: 0.0018 - val_accuracy: 0.9995 - val_loss: 0.0017\n"
     ]
    }
   ],
   "source": [
    "early_stop = EarlyStopping(monitor='val_loss', patience=5, restore_best_weights=True)\n",
    "history_cnn = model_cnn.fit(\n",
    "    X_train_cnn, y_train,\n",
    "    epochs=10,\n",
    "    batch_size=32,\n",
    "    validation_split=0.2,\n",
    "    callbacks=[early_stop]\n",
    ")"
   ]
  },
  {
   "cell_type": "markdown",
   "metadata": {},
   "source": [
    "### Evaluation of the model"
   ]
  },
  {
   "cell_type": "code",
   "execution_count": 29,
   "metadata": {},
   "outputs": [
    {
     "name": "stdout",
     "output_type": "stream",
     "text": [
      "\u001b[1m297/297\u001b[0m \u001b[32m━━━━━━━━━━━━━━━━━━━━\u001b[0m\u001b[37m\u001b[0m \u001b[1m0s\u001b[0m 1ms/step - accuracy: 0.9994 - loss: 0.0030\n",
      "CNN Test Loss: 0.0041, CNN Test Accuracy: 0.9995\n",
      "\u001b[1m297/297\u001b[0m \u001b[32m━━━━━━━━━━━━━━━━━━━━\u001b[0m\u001b[37m\u001b[0m \u001b[1m1s\u001b[0m 1ms/step\n"
     ]
    },
    {
     "data": {
      "image/png": "[encoded data removed]",
      "text/plain": [
       "<Figure size 1200x600 with 1 Axes>"
      ]
     },
     "metadata": {},
     "output_type": "display_data"
    },
    {
     "name": "stdout",
     "output_type": "stream",
     "text": [
      "[0 0 0 ... 0 0 0]\n",
      "[[1.2678505e-09]\n",
      " [8.8508427e-09]\n",
      " [1.6486799e-08]\n",
      " ...\n",
      " [1.3277624e-07]\n",
      " [5.7571495e-15]\n",
      " [2.7634361e-09]]\n"
     ]
    }
   ],
   "source": [
    "test_loss_cnn, test_accuracy_cnn = model_cnn.evaluate(X_test_cnn, y_test)\n",
    "print(f'CNN Test Loss: {test_loss_cnn:.4f}, CNN Test Accuracy: {test_accuracy_cnn:.4f}')\n",
    "y_pred_proba_cnn = model_cnn.predict(X_test_cnn)\n",
    "y_pred_cnn = (y_pred_proba_cnn >= 0.5).astype(int).flatten()\n",
    "\n",
    "# 1. Accuracy\n",
    "acc = accuracy_score(y_test, y_pred_cnn)\n",
    "# 2. Precision\n",
    "prec = precision_score(y_test, y_pred_cnn)\n",
    "# 3. Recall\n",
    "rec = recall_score(y_test, y_pred_cnn)\n",
    "# 4. F1 Score\n",
    "f1 = f1_score(y_test, y_pred_cnn)\n",
    "# 5. ROC AUC Score\n",
    "roc_auc = roc_auc_score(y_test, y_pred_proba_cnn)\n",
    "# 6. Log Loss\n",
    "ll = log_loss(y_test, y_pred_proba_cnn)\n",
    "# 7. Matthews Correlation Coefficient\n",
    "mcc = matthews_corrcoef(y_test, y_pred_cnn)\n",
    "# 8. Balanced Accuracy\n",
    "bal_acc = balanced_accuracy_score(y_test, y_pred_cnn)\n",
    "# 9. Cohen's Kappa Score\n",
    "kappa = cohen_kappa_score(y_test, y_pred_cnn)\n",
    "# 10. Specificity (TN / (TN + FP))\n",
    "cm = confusion_matrix(y_test, y_pred_cnn)\n",
    "tn, fp, fn, tp = cm.ravel()\n",
    "specificity = tn / (tn + fp) if (tn + fp) > 0 else 0\n",
    "\n",
    "# Create a dictionary of metrics for plotting.\n",
    "metrics_dict_cnn = {\n",
    "    \"Accuracy\": acc,\n",
    "    \"Precision\": prec,\n",
    "    \"Recall\": rec,\n",
    "    \"F1 Score\": f1,\n",
    "    \"ROC AUC\": roc_auc,\n",
    "    \"Log Loss\": ll,\n",
    "    \"Matthews CC\": mcc,\n",
    "    \"Balanced Acc.\": bal_acc,\n",
    "    \"Cohen's Kappa\": kappa,\n",
    "    \"Specificity\": specificity\n",
    "}\n",
    "plt.figure(figsize=(12, 6))\n",
    "bars = plt.bar(metrics_dict_cnn.keys(), metrics_dict_cnn.values(), color='lightgreen')\n",
    "plt.title(\"Evaluation Metrics for the CNN Model\")\n",
    "plt.ylabel(\"Metric Value\")\n",
    "plt.xticks(rotation=45, ha=\"right\")\n",
    "for bar in bars:\n",
    "    height = bar.get_height()\n",
    "    plt.annotate(f'{height:.3f}',\n",
    "                 xy=(bar.get_x() + bar.get_width() / 2, height),\n",
    "                 xytext=(0, 3),\n",
    "                 textcoords=\"offset points\",\n",
    "                 ha='center', va='bottom')\n",
    "\n",
    "plt.tight_layout()\n",
    "plt.show()\n",
    "print(y_pred_cnn)\n",
    "print(y_pred_proba_cnn)"
   ]
  }
 ],
 "metadata": {
  "kernelspec": {
   "display_name": "unet_env",
   "language": "python",
   "name": "python3"
  },
  "language_info": {
   "codemirror_mode": {
    "name": "ipython",
    "version": 3
   },
   "file_extension": ".py",
   "mimetype": "text/x-python",
   "name": "python",
   "nbconvert_exporter": "python",
   "pygments_lexer": "ipython3",
   "version": "3.9.19"
  }
 },
 "nbformat": 4,
 "nbformat_minor": 2
}
