{
 "cells": [
  {
   "cell_type": "markdown",
   "metadata": {},
   "source": [
    "# LSTM model (long short term memory)"
   ]
  },
  {
   "cell_type": "code",
   "execution_count": 19,
   "metadata": {},
   "outputs": [],
   "source": [
    "import pandas as pd\n",
    "import numpy as np\n",
    "import matplotlib.pyplot as plt\n",
    "from sklearn.model_selection import train_test_split\n",
    "from sklearn.preprocessing import StandardScaler, OneHotEncoder\n",
    "from sklearn.impute import SimpleImputer\n",
    "from sklearn.compose import ColumnTransformer\n",
    "from sklearn.pipeline import Pipeline\n",
    "from sklearn.metrics import (accuracy_score, precision_score, recall_score, f1_score, \n",
    "                             roc_auc_score, log_loss, matthews_corrcoef, balanced_accuracy_score, \n",
    "                             cohen_kappa_score, confusion_matrix)\n",
    "import tensorflow as tf\n",
    "from tensorflow.keras.models import Sequential\n",
    "from tensorflow.keras.layers import LSTM, Dense, Dropout\n",
    "from tensorflow.keras.callbacks import EarlyStopping"
   ]
  },
  {
   "cell_type": "code",
   "execution_count": 20,
   "metadata": {},
   "outputs": [
    {
     "name": "stderr",
     "output_type": "stream",
     "text": [
      "C:\\Users\\raksh\\AppData\\Local\\Temp\\ipykernel_20064\\112859877.py:1: DtypeWarning: Columns (22,25) have mixed types. Specify dtype option on import or set low_memory=False.\n",
      "  df = pd.read_csv('dataset.csv')\n"
     ]
    }
   ],
   "source": [
    "df = pd.read_csv('dataset.csv')"
   ]
  },
  {
   "cell_type": "code",
   "execution_count": 21,
   "metadata": {},
   "outputs": [
    {
     "name": "stdout",
     "output_type": "stream",
     "text": [
      "Created 'EngineHealth' column based on DTC_NUMBER.\n"
     ]
    }
   ],
   "source": [
    "if 'DTC_NUMBER' in df.columns:\n",
    "    df['DTC_NUMBER'] = df['DTC_NUMBER'].fillna('MIL is OFF0 codes')\n",
    "    df['EngineHealth'] = df['DTC_NUMBER'].apply(lambda x: 0 if x.strip() == 'MIL is OFF0 codes' else 1)\n",
    "    print(\"Created 'EngineHealth' column based on DTC_NUMBER.\")\n",
    "else:\n",
    "    raise ValueError(\"DTC_NUMBER column not found in the dataset. Cannot create EngineHealth target.\")\n"
   ]
  },
  {
   "cell_type": "code",
   "execution_count": 27,
   "metadata": {},
   "outputs": [],
   "source": [
    "cols_to_drop = [\n",
    "    'AUTOMATIC', 'BAROMETRIC_PRESSURE(KPA)', 'FUEL_LEVEL', 'AMBIENT_AIR_TEMP', \n",
    "    'INTAKE_MANIFOLD_PRESSURE', 'MAF', 'LONG TERM FUEL TRIM BANK 2', 'FUEL_TYPE', \n",
    "    'FUEL_PRESSURE', 'SHORT TERM FUEL TRIM BANK 2', 'ENGINE_RUNTIME', 'TROUBLE_CODES', \n",
    "    'EQUIV_RATIO', 'TIMESTAMP', 'VEHICLE_ID', 'DTC_NUMBER'\n",
    "]\n",
    "df.drop(columns=cols_to_drop, errors='ignore', inplace=True)"
   ]
  },
  {
   "cell_type": "code",
   "execution_count": 28,
   "metadata": {},
   "outputs": [],
   "source": [
    "feature_cols = [\n",
    "    'MARK', 'MODEL', 'CAR_YEAR', 'ENGINE_POWER', 'ENGINE_COOLANT_TEMP', \n",
    "    'ENGINE_LOAD', 'ENGINE_RPM', 'AIR_INTAKE_TEMP', 'SPEED', \n",
    "    'SHORT TERM FUEL TRIM BANK 1', 'THROTTLE_POS', \n",
    "    'TIMING_ADVANCE', 'MIN', 'HOURS', 'DAYS_OF_WEEK', 'MONTHS', 'YEAR'\n",
    "]\n",
    "df_model = df[feature_cols + ['EngineHealth']].copy()\n",
    "df_model.dropna(subset=['EngineHealth'], inplace=True) "
   ]
  },
  {
   "cell_type": "code",
   "execution_count": 29,
   "metadata": {},
   "outputs": [],
   "source": [
    "X = df_model[feature_cols]\n",
    "y = df_model['EngineHealth']"
   ]
  },
  {
   "cell_type": "code",
   "execution_count": 31,
   "metadata": {},
   "outputs": [],
   "source": [
    "# preprocess the data - preprocessing pipeline\n",
    "categorical_features = ['MARK', 'MODEL']\n",
    "numeric_features = [col for col in feature_cols if col not in categorical_features]\n",
    "numeric_transformer = Pipeline(steps=[\n",
    "    ('imputer', SimpleImputer(strategy='median')),\n",
    "    ('scaler', StandardScaler())\n",
    "])\n",
    "categorical_transformer = Pipeline(steps=[\n",
    "    ('imputer', SimpleImputer(strategy='most_frequent')),\n",
    "    ('onehot', OneHotEncoder(handle_unknown='ignore'))\n",
    "])\n",
    "preprocessor = ColumnTransformer(\n",
    "    transformers=[\n",
    "        ('num', numeric_transformer, numeric_features),\n",
    "        ('cat', categorical_transformer, categorical_features)\n",
    "    ]\n",
    ")"
   ]
  },
  {
   "cell_type": "code",
   "execution_count": 32,
   "metadata": {},
   "outputs": [],
   "source": [
    "# Split into Training and Test Sets\n",
    "X_train, X_test, y_train, y_test = train_test_split(\n",
    "    X, y, test_size=0.2, random_state=42\n",
    ")\n",
    "X_train_processed = preprocessor.fit_transform(X_train)\n",
    "X_test_processed = preprocessor.transform(X_test)"
   ]
  },
  {
   "cell_type": "code",
   "execution_count": 33,
   "metadata": {},
   "outputs": [],
   "source": [
    "#reshape the data for lstm \n",
    "# Treating each sample as a sequence with length=input_dim and 1 feature per timestep.\n",
    "\n",
    "input_dim = X_train_processed.shape[1]\n",
    "X_train_lstm = np.expand_dims(X_train_processed, axis=-1)  # shape: (n_samples, input_dim, 1)\n",
    "X_test_lstm = np.expand_dims(X_test_processed, axis=-1)\n"
   ]
  },
  {
   "cell_type": "markdown",
   "metadata": {},
   "source": [
    "## Model "
   ]
  },
  {
   "cell_type": "code",
   "execution_count": 36,
   "metadata": {},
   "outputs": [],
   "source": [
    "model_lstm = Sequential([\n",
    "    LSTM(64, input_shape=(input_dim, 1), return_sequences=True),\n",
    "    Dropout(0.2),\n",
    "    LSTM(32),\n",
    "    Dense(1, activation='sigmoid')  # Sigmoid activation for binary classification.\n",
    "])\n",
    "\n",
    "model_lstm.compile(optimizer='adam', loss='binary_crossentropy', metrics=['accuracy'])"
   ]
  },
  {
   "cell_type": "markdown",
   "metadata": {},
   "source": [
    "### training the model"
   ]
  },
  {
   "cell_type": "code",
   "execution_count": 37,
   "metadata": {},
   "outputs": [
    {
     "name": "stdout",
     "output_type": "stream",
     "text": [
      "Epoch 1/10\n",
      "\u001b[1m951/951\u001b[0m \u001b[32m━━━━━━━━━━━━━━━━━━━━\u001b[0m\u001b[37m\u001b[0m \u001b[1m19s\u001b[0m 17ms/step - accuracy: 0.8736 - loss: 0.2927 - val_accuracy: 0.8682 - val_loss: 0.3029\n",
      "Epoch 2/10\n",
      "\u001b[1m951/951\u001b[0m \u001b[32m━━━━━━━━━━━━━━━━━━━━\u001b[0m\u001b[37m\u001b[0m \u001b[1m16s\u001b[0m 17ms/step - accuracy: 0.8746 - loss: 0.2905 - val_accuracy: 0.8682 - val_loss: 0.3010\n",
      "Epoch 3/10\n",
      "\u001b[1m951/951\u001b[0m \u001b[32m━━━━━━━━━━━━━━━━━━━━\u001b[0m\u001b[37m\u001b[0m \u001b[1m16s\u001b[0m 17ms/step - accuracy: 0.9211 - loss: 0.1814 - val_accuracy: 0.9972 - val_loss: 0.0144\n",
      "Epoch 4/10\n",
      "\u001b[1m951/951\u001b[0m \u001b[32m━━━━━━━━━━━━━━━━━━━━\u001b[0m\u001b[37m\u001b[0m \u001b[1m19s\u001b[0m 20ms/step - accuracy: 0.9978 - loss: 0.0125 - val_accuracy: 0.9975 - val_loss: 0.0126\n",
      "Epoch 5/10\n",
      "\u001b[1m951/951\u001b[0m \u001b[32m━━━━━━━━━━━━━━━━━━━━\u001b[0m\u001b[37m\u001b[0m \u001b[1m17s\u001b[0m 18ms/step - accuracy: 0.9978 - loss: 0.0117 - val_accuracy: 0.9975 - val_loss: 0.0137\n",
      "Epoch 6/10\n",
      "\u001b[1m951/951\u001b[0m \u001b[32m━━━━━━━━━━━━━━━━━━━━\u001b[0m\u001b[37m\u001b[0m \u001b[1m18s\u001b[0m 19ms/step - accuracy: 0.9974 - loss: 0.0119 - val_accuracy: 0.9971 - val_loss: 0.0138\n",
      "Epoch 7/10\n",
      "\u001b[1m951/951\u001b[0m \u001b[32m━━━━━━━━━━━━━━━━━━━━\u001b[0m\u001b[37m\u001b[0m \u001b[1m17s\u001b[0m 17ms/step - accuracy: 0.9975 - loss: 0.0126 - val_accuracy: 0.9970 - val_loss: 0.0129\n",
      "Epoch 8/10\n",
      "\u001b[1m951/951\u001b[0m \u001b[32m━━━━━━━━━━━━━━━━━━━━\u001b[0m\u001b[37m\u001b[0m \u001b[1m16s\u001b[0m 17ms/step - accuracy: 0.9978 - loss: 0.0109 - val_accuracy: 0.9975 - val_loss: 0.0100\n",
      "Epoch 9/10\n",
      "\u001b[1m951/951\u001b[0m \u001b[32m━━━━━━━━━━━━━━━━━━━━\u001b[0m\u001b[37m\u001b[0m \u001b[1m16s\u001b[0m 17ms/step - accuracy: 0.9967 - loss: 0.0144 - val_accuracy: 0.9975 - val_loss: 0.0056\n",
      "Epoch 10/10\n",
      "\u001b[1m951/951\u001b[0m \u001b[32m━━━━━━━━━━━━━━━━━━━━\u001b[0m\u001b[37m\u001b[0m \u001b[1m16s\u001b[0m 17ms/step - accuracy: 0.9986 - loss: 0.0055 - val_accuracy: 0.9975 - val_loss: 0.0114\n"
     ]
    }
   ],
   "source": [
    "early_stop = EarlyStopping(monitor='val_loss', patience=5, restore_best_weights=True)\n",
    "history_lstm = model_lstm.fit(\n",
    "    X_train_lstm, y_train,\n",
    "    epochs=10,\n",
    "    batch_size=32,\n",
    "    validation_split=0.2,\n",
    "    callbacks=[early_stop]\n",
    ")"
   ]
  },
  {
   "cell_type": "markdown",
   "metadata": {},
   "source": [
    "### Evaluation of the model"
   ]
  },
  {
   "cell_type": "code",
   "execution_count": 40,
   "metadata": {},
   "outputs": [
    {
     "name": "stdout",
     "output_type": "stream",
     "text": [
      "\u001b[1m297/297\u001b[0m \u001b[32m━━━━━━━━━━━━━━━━━━━━\u001b[0m\u001b[37m\u001b[0m \u001b[1m2s\u001b[0m 5ms/step - accuracy: 0.9969 - loss: 0.0067\n",
      "LSTM Test Loss: 0.0081, LSTM Test Accuracy: 0.9966\n",
      "\u001b[1m297/297\u001b[0m \u001b[32m━━━━━━━━━━━━━━━━━━━━\u001b[0m\u001b[37m\u001b[0m \u001b[1m2s\u001b[0m 6ms/step\n"
     ]
    },
    {
     "data": {
      "image/png": "[encoded data removed]",
      "text/plain": [
       "<Figure size 1200x600 with 1 Axes>"
      ]
     },
     "metadata": {},
     "output_type": "display_data"
    }
   ],
   "source": [
    "test_loss_lstm, test_accuracy_lstm = model_lstm.evaluate(X_test_lstm, y_test)\n",
    "print(f'LSTM Test Loss: {test_loss_lstm:.4f}, LSTM Test Accuracy: {test_accuracy_lstm:.4f}')\n",
    "y_pred_proba_lstm = model_lstm.predict(X_test_lstm)\n",
    "y_pred_lstm = (y_pred_proba_lstm >= 0.5).astype(int).flatten()\n",
    "# 1. Accuracy\n",
    "acc = accuracy_score(y_test, y_pred_lstm)\n",
    "# 2. Precision\n",
    "prec = precision_score(y_test, y_pred_lstm)\n",
    "# 3. Recall\n",
    "rec = recall_score(y_test, y_pred_lstm)\n",
    "# 4. F1 Score\n",
    "f1 = f1_score(y_test, y_pred_lstm)\n",
    "# 5. ROC AUC Score\n",
    "roc_auc = roc_auc_score(y_test, y_pred_proba_lstm)\n",
    "# 6. Log Loss\n",
    "ll = log_loss(y_test, y_pred_proba_lstm)\n",
    "# 7. Matthews Correlation Coefficient\n",
    "mcc = matthews_corrcoef(y_test, y_pred_lstm)\n",
    "# 8. Balanced Accuracy\n",
    "bal_acc = balanced_accuracy_score(y_test, y_pred_lstm)\n",
    "# 9. Cohen's Kappa Score\n",
    "kappa = cohen_kappa_score(y_test, y_pred_lstm)\n",
    "# 10. Specificity (TN / (TN + FP))\n",
    "cm = confusion_matrix(y_test, y_pred_lstm)\n",
    "tn, fp, fn, tp = cm.ravel()\n",
    "specificity = tn / (tn + fp) if (tn + fp) > 0 else 0\n",
    "metrics_dict_lstm = {\n",
    "    \"Accuracy\": acc,\n",
    "    \"Precision\": prec,\n",
    "    \"Recall\": rec,\n",
    "    \"F1 Score\": f1,\n",
    "    \"ROC AUC\": roc_auc,\n",
    "    \"Log Loss\": ll,\n",
    "    \"Matthews CC\": mcc,\n",
    "    \"Balanced Acc.\": bal_acc,\n",
    "    \"Cohen's Kappa\": kappa,\n",
    "    \"Specificity\": specificity\n",
    "}\n",
    "plt.figure(figsize=(12, 6))\n",
    "bars = plt.bar(metrics_dict_lstm.keys(), metrics_dict_lstm.values(), color='salmon')\n",
    "plt.title(\"Evaluation Metrics for the LSTM Model\")\n",
    "plt.ylabel(\"Metric Value\")\n",
    "plt.xticks(rotation=45, ha=\"right\")\n",
    "for bar in bars:\n",
    "    height = bar.get_height()\n",
    "    plt.annotate(f'{height:.3f}',\n",
    "                 xy=(bar.get_x() + bar.get_width() / 2, height),\n",
    "                 xytext=(0, 3), \n",
    "                 textcoords=\"offset points\",\n",
    "                 ha='center', va='bottom')\n",
    "\n",
    "plt.tight_layout()\n",
    "plt.show()"
   ]
  }
 ],
 "metadata": {
  "kernelspec": {
   "display_name": "unet_env",
   "language": "python",
   "name": "python3"
  },
  "language_info": {
   "codemirror_mode": {
    "name": "ipython",
    "version": 3
   },
   "file_extension": ".py",
   "mimetype": "text/x-python",
   "name": "python",
   "nbconvert_exporter": "python",
   "pygments_lexer": "ipython3",
   "version": "3.9.19"
  }
 },
 "nbformat": 4,
 "nbformat_minor": 2
}
